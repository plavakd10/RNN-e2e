{
 "cells": [
  {
   "cell_type": "code",
   "execution_count": 1,
   "metadata": {},
   "outputs": [],
   "source": [
    "from tensorflow.keras.datasets import imdb\n",
    "from tensorflow.keras.preprocessing import sequence\n",
    "from tensorflow.keras.models import load_model"
   ]
  },
  {
   "cell_type": "code",
   "execution_count": 2,
   "metadata": {},
   "outputs": [],
   "source": [
    "word_index = imdb.get_word_index()\n",
    "reverse_word_index = {value: key for key,value in word_index.items()}"
   ]
  },
  {
   "cell_type": "code",
   "execution_count": 3,
   "metadata": {},
   "outputs": [
    {
     "name": "stderr",
     "output_type": "stream",
     "text": [
      "WARNING:absl:Compiled the loaded model, but the compiled metrics have yet to be built. `model.compile_metrics` will be empty until you train or evaluate the model.\n"
     ]
    },
    {
     "data": {
      "text/html": [
       "<pre style=\"white-space:pre;overflow-x:auto;line-height:normal;font-family:Menlo,'DejaVu Sans Mono',consolas,'Courier New',monospace\"><span style=\"font-weight: bold\">Model: \"sequential_2\"</span>\n",
       "</pre>\n"
      ],
      "text/plain": [
       "\u001b[1mModel: \"sequential_2\"\u001b[0m\n"
      ]
     },
     "metadata": {},
     "output_type": "display_data"
    },
    {
     "data": {
      "text/html": [
       "<pre style=\"white-space:pre;overflow-x:auto;line-height:normal;font-family:Menlo,'DejaVu Sans Mono',consolas,'Courier New',monospace\">┏━━━━━━━━━━━━━━━━━━━━━━━━━━━━━━━━━┳━━━━━━━━━━━━━━━━━━━━━━━━┳━━━━━━━━━━━━━━━┓\n",
       "┃<span style=\"font-weight: bold\"> Layer (type)                    </span>┃<span style=\"font-weight: bold\"> Output Shape           </span>┃<span style=\"font-weight: bold\">       Param # </span>┃\n",
       "┡━━━━━━━━━━━━━━━━━━━━━━━━━━━━━━━━━╇━━━━━━━━━━━━━━━━━━━━━━━━╇━━━━━━━━━━━━━━━┩\n",
       "│ embedding_2 (<span style=\"color: #0087ff; text-decoration-color: #0087ff\">Embedding</span>)         │ (<span style=\"color: #00d7ff; text-decoration-color: #00d7ff\">None</span>, <span style=\"color: #00af00; text-decoration-color: #00af00\">500</span>, <span style=\"color: #00af00; text-decoration-color: #00af00\">128</span>)       │     <span style=\"color: #00af00; text-decoration-color: #00af00\">1,280,000</span> │\n",
       "├─────────────────────────────────┼────────────────────────┼───────────────┤\n",
       "│ simple_rnn_1 (<span style=\"color: #0087ff; text-decoration-color: #0087ff\">SimpleRNN</span>)        │ (<span style=\"color: #00d7ff; text-decoration-color: #00d7ff\">None</span>, <span style=\"color: #00af00; text-decoration-color: #00af00\">128</span>)            │        <span style=\"color: #00af00; text-decoration-color: #00af00\">32,896</span> │\n",
       "├─────────────────────────────────┼────────────────────────┼───────────────┤\n",
       "│ dense_1 (<span style=\"color: #0087ff; text-decoration-color: #0087ff\">Dense</span>)                 │ (<span style=\"color: #00d7ff; text-decoration-color: #00d7ff\">None</span>, <span style=\"color: #00af00; text-decoration-color: #00af00\">1</span>)              │           <span style=\"color: #00af00; text-decoration-color: #00af00\">129</span> │\n",
       "└─────────────────────────────────┴────────────────────────┴───────────────┘\n",
       "</pre>\n"
      ],
      "text/plain": [
       "┏━━━━━━━━━━━━━━━━━━━━━━━━━━━━━━━━━┳━━━━━━━━━━━━━━━━━━━━━━━━┳━━━━━━━━━━━━━━━┓\n",
       "┃\u001b[1m \u001b[0m\u001b[1mLayer (type)                   \u001b[0m\u001b[1m \u001b[0m┃\u001b[1m \u001b[0m\u001b[1mOutput Shape          \u001b[0m\u001b[1m \u001b[0m┃\u001b[1m \u001b[0m\u001b[1m      Param #\u001b[0m\u001b[1m \u001b[0m┃\n",
       "┡━━━━━━━━━━━━━━━━━━━━━━━━━━━━━━━━━╇━━━━━━━━━━━━━━━━━━━━━━━━╇━━━━━━━━━━━━━━━┩\n",
       "│ embedding_2 (\u001b[38;5;33mEmbedding\u001b[0m)         │ (\u001b[38;5;45mNone\u001b[0m, \u001b[38;5;34m500\u001b[0m, \u001b[38;5;34m128\u001b[0m)       │     \u001b[38;5;34m1,280,000\u001b[0m │\n",
       "├─────────────────────────────────┼────────────────────────┼───────────────┤\n",
       "│ simple_rnn_1 (\u001b[38;5;33mSimpleRNN\u001b[0m)        │ (\u001b[38;5;45mNone\u001b[0m, \u001b[38;5;34m128\u001b[0m)            │        \u001b[38;5;34m32,896\u001b[0m │\n",
       "├─────────────────────────────────┼────────────────────────┼───────────────┤\n",
       "│ dense_1 (\u001b[38;5;33mDense\u001b[0m)                 │ (\u001b[38;5;45mNone\u001b[0m, \u001b[38;5;34m1\u001b[0m)              │           \u001b[38;5;34m129\u001b[0m │\n",
       "└─────────────────────────────────┴────────────────────────┴───────────────┘\n"
      ]
     },
     "metadata": {},
     "output_type": "display_data"
    },
    {
     "data": {
      "text/html": [
       "<pre style=\"white-space:pre;overflow-x:auto;line-height:normal;font-family:Menlo,'DejaVu Sans Mono',consolas,'Courier New',monospace\"><span style=\"font-weight: bold\"> Total params: </span><span style=\"color: #00af00; text-decoration-color: #00af00\">1,313,027</span> (5.01 MB)\n",
       "</pre>\n"
      ],
      "text/plain": [
       "\u001b[1m Total params: \u001b[0m\u001b[38;5;34m1,313,027\u001b[0m (5.01 MB)\n"
      ]
     },
     "metadata": {},
     "output_type": "display_data"
    },
    {
     "data": {
      "text/html": [
       "<pre style=\"white-space:pre;overflow-x:auto;line-height:normal;font-family:Menlo,'DejaVu Sans Mono',consolas,'Courier New',monospace\"><span style=\"font-weight: bold\"> Trainable params: </span><span style=\"color: #00af00; text-decoration-color: #00af00\">1,313,025</span> (5.01 MB)\n",
       "</pre>\n"
      ],
      "text/plain": [
       "\u001b[1m Trainable params: \u001b[0m\u001b[38;5;34m1,313,025\u001b[0m (5.01 MB)\n"
      ]
     },
     "metadata": {},
     "output_type": "display_data"
    },
    {
     "data": {
      "text/html": [
       "<pre style=\"white-space:pre;overflow-x:auto;line-height:normal;font-family:Menlo,'DejaVu Sans Mono',consolas,'Courier New',monospace\"><span style=\"font-weight: bold\"> Non-trainable params: </span><span style=\"color: #00af00; text-decoration-color: #00af00\">0</span> (0.00 B)\n",
       "</pre>\n"
      ],
      "text/plain": [
       "\u001b[1m Non-trainable params: \u001b[0m\u001b[38;5;34m0\u001b[0m (0.00 B)\n"
      ]
     },
     "metadata": {},
     "output_type": "display_data"
    },
    {
     "data": {
      "text/html": [
       "<pre style=\"white-space:pre;overflow-x:auto;line-height:normal;font-family:Menlo,'DejaVu Sans Mono',consolas,'Courier New',monospace\"><span style=\"font-weight: bold\"> Optimizer params: </span><span style=\"color: #00af00; text-decoration-color: #00af00\">2</span> (12.00 B)\n",
       "</pre>\n"
      ],
      "text/plain": [
       "\u001b[1m Optimizer params: \u001b[0m\u001b[38;5;34m2\u001b[0m (12.00 B)\n"
      ]
     },
     "metadata": {},
     "output_type": "display_data"
    }
   ],
   "source": [
    "model = load_model('rnn_imdb.h5')\n",
    "model.summary()"
   ]
  },
  {
   "cell_type": "code",
   "execution_count": 4,
   "metadata": {},
   "outputs": [
    {
     "data": {
      "text/plain": [
       "[array([[-0.29558876,  0.11494287,  0.04803655, ..., -0.563044  ,\n",
       "         -0.04118903,  0.0404628 ],\n",
       "        [-0.03411522,  0.0781822 , -0.04503239, ..., -0.06736187,\n",
       "          0.02341151,  0.03246735],\n",
       "        [-0.24681664, -0.09746619,  0.05862069, ..., -0.01807896,\n",
       "         -0.05824383,  0.02378885],\n",
       "        ...,\n",
       "        [ 0.01599169, -0.05146757,  0.00210393, ...,  0.05878277,\n",
       "         -0.02039948,  0.04244232],\n",
       "        [-0.01311029, -0.00935054, -0.03680886, ...,  0.02695624,\n",
       "         -0.02116859, -0.01494404],\n",
       "        [ 0.02371393, -0.03092151, -0.04304154, ...,  0.00805683,\n",
       "          0.128513  , -0.01117921]], dtype=float32),\n",
       " array([[-0.07605397,  0.22221424,  0.11350097, ..., -0.09579114,\n",
       "         -0.0979439 , -0.00766781],\n",
       "        [-0.08277427,  0.03527229, -0.08643391, ...,  0.10012864,\n",
       "         -0.13000944, -0.11209371],\n",
       "        [-0.04271699, -0.0115734 ,  0.05810233, ...,  0.02686128,\n",
       "          0.04509082,  0.14364092],\n",
       "        ...,\n",
       "        [ 0.1429701 , -0.05173201,  0.14292857, ..., -0.08959308,\n",
       "          0.08554774,  0.02090339],\n",
       "        [ 0.09514121,  0.00833936,  0.15592237, ..., -0.08544763,\n",
       "          0.14193651,  0.09592379],\n",
       "        [ 0.04269956, -0.03807827, -0.006734  , ...,  0.11382943,\n",
       "         -0.01426487, -0.12403093]], dtype=float32),\n",
       " array([[-0.16513129, -0.04835099,  0.17490391, ...,  0.10362502,\n",
       "         -0.04922228,  0.01395165],\n",
       "        [ 0.08694767,  0.01761777, -0.05160506, ...,  0.16447167,\n",
       "          0.08760549, -0.1442229 ],\n",
       "        [-0.04561155, -0.10524656,  0.04666586, ...,  0.0460979 ,\n",
       "         -0.03340973, -0.08406968],\n",
       "        ...,\n",
       "        [ 0.00312099, -0.14186163, -0.07919505, ..., -0.03641933,\n",
       "         -0.14868365, -0.05677697],\n",
       "        [-0.0652594 ,  0.09399889, -0.06153447, ...,  0.25990555,\n",
       "          0.03121636,  0.0756043 ],\n",
       "        [ 0.1525408 , -0.0483488 ,  0.1351696 , ...,  0.00221426,\n",
       "         -0.12087933, -0.19808333]], dtype=float32),\n",
       " array([ 0.01028792, -0.06177456, -0.02514635,  0.05058913, -0.01315323,\n",
       "         0.04242545, -0.05070608, -0.05058198,  0.06443754, -0.05491522,\n",
       "        -0.07705241, -0.06037134, -0.04576827, -0.07964596, -0.07844971,\n",
       "         0.02422929,  0.00231214,  0.1064369 , -0.05352285, -0.03862671,\n",
       "        -0.05633758, -0.0527685 , -0.02882549,  0.01613308, -0.02942732,\n",
       "        -0.03437712,  0.03502828, -0.07606204, -0.04181087, -0.10277369,\n",
       "        -0.02852663,  0.00810082, -0.00871767,  0.04201591, -0.07487269,\n",
       "         0.02201449, -0.00611999,  0.06270131,  0.00073573, -0.04001431,\n",
       "         0.00388826,  0.02562836, -0.0032554 , -0.05114307,  0.01767886,\n",
       "        -0.05835316,  0.04879921,  0.04504501, -0.02632632,  0.01243209,\n",
       "        -0.07169629,  0.00538842, -0.01241179, -0.02723469, -0.0855332 ,\n",
       "         0.01245662, -0.01768204, -0.08250793, -0.00214459, -0.08561768,\n",
       "        -0.01164419,  0.02689614,  0.05138027, -0.01888453,  0.01984301,\n",
       "         0.0315634 , -0.00383938,  0.00108586, -0.00402628,  0.01568575,\n",
       "         0.00367505, -0.04501666, -0.01990143, -0.00402264, -0.04221974,\n",
       "         0.03602834, -0.06412178, -0.0051954 ,  0.06279982, -0.00467866,\n",
       "        -0.00141864, -0.07876745, -0.10605258, -0.03547448, -0.06704164,\n",
       "        -0.01313564, -0.03949627,  0.02330652, -0.07688977, -0.01228514,\n",
       "         0.01384602, -0.06166201,  0.00552939,  0.07388812,  0.02233157,\n",
       "        -0.05899934, -0.04248345, -0.01148891, -0.06536017, -0.07871318,\n",
       "        -0.10948143, -0.06530366, -0.09301812,  0.06763589, -0.00062209,\n",
       "        -0.06539012, -0.04705468, -0.02535201,  0.02183777, -0.03595373,\n",
       "        -0.04001021,  0.00685017, -0.06588771, -0.01563999,  0.03103772,\n",
       "        -0.09396133, -0.02801749,  0.01953003,  0.05164949, -0.06959431,\n",
       "        -0.08862895, -0.03588442, -0.01067358,  0.08732392, -0.02638853,\n",
       "         0.09255788, -0.01058167, -0.05374565], dtype=float32),\n",
       " array([[-1.74458027e-01],\n",
       "        [ 2.45939434e-01],\n",
       "        [ 1.60525560e-01],\n",
       "        [ 3.59961726e-02],\n",
       "        [ 2.85030663e-01],\n",
       "        [ 1.52007658e-02],\n",
       "        [ 2.51421571e-01],\n",
       "        [-1.47044554e-01],\n",
       "        [ 1.14293650e-01],\n",
       "        [ 1.80391535e-01],\n",
       "        [ 5.48288487e-02],\n",
       "        [-8.70746821e-02],\n",
       "        [-2.57295579e-01],\n",
       "        [ 2.99021862e-02],\n",
       "        [ 1.88212767e-02],\n",
       "        [-1.03477493e-03],\n",
       "        [ 5.15543036e-02],\n",
       "        [ 1.12555653e-01],\n",
       "        [-1.66080397e-04],\n",
       "        [-1.49287477e-01],\n",
       "        [-1.27418563e-01],\n",
       "        [-2.76608020e-01],\n",
       "        [-1.26251457e-02],\n",
       "        [ 1.57661110e-01],\n",
       "        [ 7.36254603e-02],\n",
       "        [-7.95977935e-02],\n",
       "        [ 1.43076748e-01],\n",
       "        [ 2.33126327e-01],\n",
       "        [-4.06978071e-01],\n",
       "        [ 1.48860523e-02],\n",
       "        [ 3.34631577e-02],\n",
       "        [-2.23085403e-01],\n",
       "        [-3.56674850e-01],\n",
       "        [ 1.08412474e-01],\n",
       "        [-8.29047486e-02],\n",
       "        [-2.24924743e-01],\n",
       "        [ 2.88049254e-04],\n",
       "        [ 1.54796749e-01],\n",
       "        [-2.43054911e-01],\n",
       "        [ 5.04558869e-02],\n",
       "        [ 3.62686552e-02],\n",
       "        [-1.97075874e-01],\n",
       "        [-3.91865164e-01],\n",
       "        [ 1.35282740e-01],\n",
       "        [-1.75657257e-01],\n",
       "        [-9.38520133e-02],\n",
       "        [-6.24114692e-01],\n",
       "        [-1.59714177e-01],\n",
       "        [-4.16947484e-01],\n",
       "        [-8.85127336e-02],\n",
       "        [ 2.18733326e-01],\n",
       "        [ 4.85887416e-02],\n",
       "        [ 1.73930392e-01],\n",
       "        [-4.51758951e-02],\n",
       "        [-8.38401914e-02],\n",
       "        [ 2.60682374e-01],\n",
       "        [ 1.87599823e-01],\n",
       "        [-1.97425663e-01],\n",
       "        [-1.61302045e-01],\n",
       "        [ 1.05271399e-01],\n",
       "        [-2.16711596e-01],\n",
       "        [ 4.39862795e-02],\n",
       "        [ 2.51516610e-01],\n",
       "        [-2.41520151e-01],\n",
       "        [-6.36761338e-02],\n",
       "        [-5.04129753e-02],\n",
       "        [ 1.01632424e-01],\n",
       "        [-7.20721260e-02],\n",
       "        [ 2.16603562e-01],\n",
       "        [ 5.34857661e-02],\n",
       "        [-1.83164194e-01],\n",
       "        [ 1.71774313e-01],\n",
       "        [ 1.80867136e-01],\n",
       "        [ 9.96355265e-02],\n",
       "        [-1.75671086e-01],\n",
       "        [ 1.73905134e-01],\n",
       "        [-2.53657252e-01],\n",
       "        [-2.20525473e-01],\n",
       "        [-3.34447801e-01],\n",
       "        [ 4.68373895e-01],\n",
       "        [-1.22166649e-01],\n",
       "        [-1.04258880e-01],\n",
       "        [-4.29440707e-01],\n",
       "        [-2.93180615e-01],\n",
       "        [-9.58653316e-02],\n",
       "        [-2.19053775e-01],\n",
       "        [-1.70339242e-01],\n",
       "        [ 6.38745800e-02],\n",
       "        [-5.22173271e-02],\n",
       "        [-1.41708925e-01],\n",
       "        [ 5.96069321e-02],\n",
       "        [ 8.69277716e-02],\n",
       "        [-1.94096252e-01],\n",
       "        [ 1.27724493e-02],\n",
       "        [ 2.95204967e-01],\n",
       "        [-2.08732828e-01],\n",
       "        [ 2.48450920e-01],\n",
       "        [-9.08525214e-02],\n",
       "        [ 3.58801731e-03],\n",
       "        [-1.00093395e-01],\n",
       "        [-4.35392074e-02],\n",
       "        [ 3.33503820e-02],\n",
       "        [ 7.98481032e-02],\n",
       "        [-3.79101515e-01],\n",
       "        [ 2.71672383e-02],\n",
       "        [ 7.19386935e-02],\n",
       "        [ 4.69287410e-02],\n",
       "        [-2.98608601e-01],\n",
       "        [-2.39923060e-01],\n",
       "        [ 1.47426128e-01],\n",
       "        [-1.11639112e-01],\n",
       "        [ 1.39157595e-02],\n",
       "        [-3.13022137e-01],\n",
       "        [-1.78495005e-01],\n",
       "        [-1.39556020e-01],\n",
       "        [-4.74305488e-02],\n",
       "        [-1.50508925e-01],\n",
       "        [ 6.52006149e-01],\n",
       "        [ 1.22159295e-01],\n",
       "        [ 9.89683941e-02],\n",
       "        [-1.68012902e-01],\n",
       "        [-8.81459285e-03],\n",
       "        [ 1.38335764e-01],\n",
       "        [ 1.30498305e-01],\n",
       "        [-8.96967128e-02],\n",
       "        [-2.07360089e-01],\n",
       "        [-8.15055147e-02],\n",
       "        [-1.81993155e-03]], dtype=float32),\n",
       " array([-0.6294008], dtype=float32)]"
      ]
     },
     "execution_count": 4,
     "metadata": {},
     "output_type": "execute_result"
    }
   ],
   "source": [
    "model.get_weights()"
   ]
  },
  {
   "cell_type": "code",
   "execution_count": 5,
   "metadata": {},
   "outputs": [],
   "source": [
    "def decode_review(encoded_review):\n",
    "    return ' '.join([reverse_word_index.get(i-3,'?') for i in encoded_review])\n",
    "\n",
    "def preprocess_text(text):\n",
    "    words = text.lower().split()\n",
    "    encoded_review = [word_index.get(word,2)+3 for word in words]\n",
    "    padded_review = sequence.pad_sequences([encoded_review],maxlen=500)\n",
    "    return padded_review\n"
   ]
  },
  {
   "cell_type": "code",
   "execution_count": 6,
   "metadata": {},
   "outputs": [],
   "source": [
    "def predict_sentiment(review):\n",
    "    preprocessed_input = preprocess_text(review)\n",
    "    \n",
    "    prediction = model.predict(preprocessed_input)\n",
    "    \n",
    "    sentiment = 'Positive' if prediction[0][0] > 0.5 else 'Negative'\n",
    "    \n",
    "    return sentiment, prediction[0][0]"
   ]
  },
  {
   "cell_type": "code",
   "execution_count": 10,
   "metadata": {},
   "outputs": [],
   "source": [
    "example_review = \"This movie was bad! The acting was worse and the plot was boring\""
   ]
  },
  {
   "cell_type": "code",
   "execution_count": 11,
   "metadata": {},
   "outputs": [
    {
     "name": "stdout",
     "output_type": "stream",
     "text": [
      "\u001b[1m1/1\u001b[0m \u001b[32m━━━━━━━━━━━━━━━━━━━━\u001b[0m\u001b[37m\u001b[0m \u001b[1m0s\u001b[0m 35ms/step\n",
      "Sentiment: Negative\n",
      "Prediction Score: 0.05439038947224617\n"
     ]
    }
   ],
   "source": [
    "sentiment, score = predict_sentiment(example_review)\n",
    "\n",
    "print(f'Sentiment: {sentiment}')\n",
    "print(f'Prediction Score: {score}')"
   ]
  },
  {
   "cell_type": "code",
   "execution_count": null,
   "metadata": {},
   "outputs": [],
   "source": []
  }
 ],
 "metadata": {
  "kernelspec": {
   "display_name": "Python 3",
   "language": "python",
   "name": "python3"
  },
  "language_info": {
   "codemirror_mode": {
    "name": "ipython",
    "version": 3
   },
   "file_extension": ".py",
   "mimetype": "text/x-python",
   "name": "python",
   "nbconvert_exporter": "python",
   "pygments_lexer": "ipython3",
   "version": "3.12.0"
  }
 },
 "nbformat": 4,
 "nbformat_minor": 2
}
